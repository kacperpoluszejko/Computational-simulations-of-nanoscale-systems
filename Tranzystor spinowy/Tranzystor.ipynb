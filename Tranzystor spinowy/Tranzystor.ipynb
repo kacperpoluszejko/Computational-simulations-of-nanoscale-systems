{
 "cells": [
  {
   "cell_type": "code",
   "execution_count": 46,
   "id": "answering-breathing",
   "metadata": {},
   "outputs": [],
   "source": [
    "import kwant\n",
    "import numpy as np\n",
    "import matplotlib.pyplot as plt\n",
    "import scipy.linalg as la\n",
    "from scipy.constants import physical_constants\n",
    "import tinyarray"
   ]
  },
  {
   "cell_type": "code",
   "execution_count": 47,
   "id": "alike-stationery",
   "metadata": {},
   "outputs": [],
   "source": [
    "h_bar = physical_constants['Planck constant over 2 pi'][0]   \n",
    "m_el = physical_constants['electron mass'][0]         \n",
    "eV_unit = physical_constants['electron volt'][0]             \n",
    "el_charge = physical_constants['elementary charge'][0]    \n",
    "hh = physical_constants['Planck constant'][0]  \n",
    "mu_B = physical_constants['Bohr magneton'][0]  \n",
    "mu_B = mu_B/eV_unit\n",
    "g = 200 "
   ]
  },
  {
   "cell_type": "code",
   "execution_count": 48,
   "id": "republican-variety",
   "metadata": {},
   "outputs": [],
   "source": [
    "m_ef = 0.1* m_el\n",
    "dx = 1 * 10**(-9) \n",
    "alfa = 0\n",
    "Bh = 0.05\n",
    "Bext = 0\n",
    "t_unit_J = h_bar**(2)/(2*m_ef*dx**2) \n",
    "t = t_unit_J/eV_unit \n",
    "W = 30\n",
    "L = 1000\n",
    "t_so = alfa/(2*dx)"
   ]
  },
  {
   "cell_type": "code",
   "execution_count": 49,
   "id": "adjustable-crisis",
   "metadata": {},
   "outputs": [],
   "source": [
    "sigma_x = np.array([[0,1],[1,0]])\n",
    "sigma_y = np.array([[0,-1j],[1j,0]])\n",
    "sigma_z = np.array([[1,0],[0,-1]])\n",
    "sigma_law = np.matrix([[1, 0], [0, 2]])"
   ]
  },
  {
   "cell_type": "code",
   "execution_count": 50,
   "id": "phantom-atmosphere",
   "metadata": {},
   "outputs": [
    {
     "data": {
      "image/png": "[encoded data removed]",
      "text/plain": [
       "<Figure size 432x288 with 1 Axes>"
      ]
     },
     "metadata": {
      "needs_background": "light"
     },
     "output_type": "display_data"
    },
    {
     "data": {
      "image/png": "[encoded data removed]",
      "text/plain": [
       "<Figure size 432x288 with 1 Axes>"
      ]
     },
     "execution_count": 50,
     "metadata": {},
     "output_type": "execute_result"
    }
   ],
   "source": [
    "def make_system(Bext = 0):  \n",
    "    x0 = 0\n",
    "    a = L\n",
    "    def onsite(site):\n",
    "        x, y = site.pos\n",
    "        x = x\n",
    "        return np.array([[4*t, 0], [0, 4*t]]) + 0.5*g*mu_B*(Bh*np.sin((np.pi*(x-x0))/a)*sigma_x + 0*sigma_y + (Bext + Bh*np.cos((np.pi*(x-x0))/a))*sigma_z)\n",
    "    \n",
    "    def onsite_lead(site):\n",
    "        x, y = site.pos\n",
    "        x = x\n",
    "        return np.array([[4*t, 0], [0, 4*t]]) + 0.5*g*mu_B*(Bh*np.sin((np.pi*(x-x0))/a)*sigma_x + 0*sigma_y + (Bext + Bh*np.cos((np.pi*(x-x0))/a))*sigma_z)\n",
    "\n",
    "    def ribbon(pos):\n",
    "        x, y = pos\n",
    "        return -L/2 <= x <= L/2 and -W/2 <= y <= W/2\n",
    "\n",
    "    def shape_lead(pos):\n",
    "        x,y = pos\n",
    "        return (-W/2 < y < W/2)\n",
    "\n",
    "    def hopping(site1, site2):\n",
    "        return np.array([[-t,0],[0,-t]])\n",
    "\n",
    "\n",
    "\n",
    "    sys = kwant.Builder()  \n",
    "    lat = kwant.lattice.square(dx*10**9, norbs=2)\n",
    "    sys[lat.shape(ribbon,(0,0))] = onsite\n",
    "    sys[lat.neighbors()] = hopping\n",
    "\n",
    "\n",
    "\n",
    "    leadl = kwant.Builder(kwant.TranslationalSymmetry((-dx*10**9,0)),conservation_law=sigma_law)\n",
    "    leadl[lat.shape(shape_lead, (0,0))] = onsite_lead\n",
    "    leadl[lat.neighbors()] = hopping\n",
    "\n",
    "    leadr = kwant.Builder(kwant.TranslationalSymmetry((dx*10**9,0)),conservation_law=sigma_law)\n",
    "    leadr[lat.shape(shape_lead, (0,0))] = onsite_lead\n",
    "    leadr[lat.neighbors()] = hopping\n",
    "\n",
    "    sys.attach_lead(leadl)\n",
    "    sys.attach_lead(leadr)\n",
    "\n",
    "    sysf = sys.finalized()\n",
    "\n",
    "    return sysf\n",
    "sysf = make_system(0.001)\n",
    "kwant.plot(sysf)"
   ]
  },
  {
   "cell_type": "code",
   "execution_count": 51,
   "id": "bizarre-cannon",
   "metadata": {},
   "outputs": [],
   "source": [
    "def disperssion(nr_lead, k_max, nk):\n",
    "    momenta = np.linspace(-k_max,k_max,nk)\n",
    "    bands=kwant.physics.Bands(sysf.leads[nr_lead])\n",
    "    energies=[bands(k) for k in momenta]\n",
    "    return (momenta), energies\n",
    "\n",
    "def conductance(Emax, ne):\n",
    "    energies=np.linspace(0,Emax,ne)\n",
    "    cond=[transmission(E) for E in energies]\n",
    "    return energies, cond\n",
    "\n",
    "def transmission(E):\n",
    "    smatrix=kwant.smatrix(sysf,E)\n",
    "    t=smatrix.transmission(1,0) \n",
    "    return t"
   ]
  },
  {
   "cell_type": "code",
   "execution_count": 52,
   "id": "canadian-celebration",
   "metadata": {},
   "outputs": [
    {
     "data": {
      "image/png": "[encoded data removed]",
      "text/plain": [
       "<Figure size 288x288 with 1 Axes>"
      ]
     },
     "metadata": {
      "needs_background": "light"
     },
     "output_type": "display_data"
    }
   ],
   "source": [
    "momenta, energies = disperssion(0, 1, 200)\n",
    "plt.figure(figsize=(4,4))\n",
    "plt.plot(momenta, np.asarray(energies),'k-')\n",
    "plt.tick_params(axis='both', which='major', labelsize=22)\n",
    "plt.ylim((0.002,.008))  \n",
    "plt.xlim((-0.2,0.2))  \n",
    "plt.xlabel(\"k [1/nm]\",fontsize=22)\n",
    "plt.ylabel(\"E [eV]\",fontsize=22)\n",
    "plt.subplots_adjust(bottom=0.2) \n",
    "plt.grid()\n",
    "plt.savefig(\"dyspersja_6jpg.png\")\n",
    "plt.show()"
   ]
  },
  {
   "cell_type": "code",
   "execution_count": 53,
   "id": "liberal-barcelona",
   "metadata": {},
   "outputs": [
    {
     "name": "stdout",
     "output_type": "stream",
     "text": [
      "0.0\n",
      "0.025\n",
      "0.05\n",
      "0.07500000000000001\n",
      "0.1\n"
     ]
    }
   ],
   "source": [
    "B_max = 0.1\n",
    "ne = 5\n",
    "E = 0.0042\n",
    "B_table = np.linspace(0, B_max, ne)\n",
    "cond_table = np.zeros(ne)\n",
    "for index, B in enumerate(B_table):\n",
    "    sysf = make_system(B)\n",
    "    try:\n",
    "        smatrix = kwant.smatrix(sysf, E)\n",
    "        tran = smatrix.transmission(1, 0)\n",
    "        cond_table[index] = tran\n",
    "        print(B)\n",
    "    except ValueError as e:\n",
    "        print(f\"B={B:.3f} -> smatrix failed: {e}\")\n",
    "        cond_table[index] = 0\n",
    "\n"
   ]
  },
  {
   "cell_type": "code",
   "execution_count": 54,
   "id": "freelance-shannon",
   "metadata": {},
   "outputs": [
    {
     "data": {
      "image/png": "[encoded data removed]",
      "text/plain": [
       "<Figure size 576x288 with 1 Axes>"
      ]
     },
     "metadata": {
      "needs_background": "light"
     },
     "output_type": "display_data"
    }
   ],
   "source": [
    "plt.figure(figsize=(8,4))\n",
    "plt.plot(B_table, cond_table,'k-')\n",
    "plt.tick_params(axis='both', which='major', labelsize=22)\n",
    "plt.xlabel(\"B [T]\",fontsize=22)\n",
    "plt.ylabel(\"G\",fontsize=22)\n",
    "plt.subplots_adjust(bottom=0.2) \n",
    "plt.savefig(\"konduktancja_2.png\")\n",
    "plt.show()"
   ]
  },
  {
   "cell_type": "code",
   "execution_count": null,
   "id": "tutorial-professional",
   "metadata": {},
   "outputs": [],
   "source": []
  }
 ],
 "metadata": {
  "kernelspec": {
   "display_name": "pykwant2021",
   "language": "python",
   "name": "pykwant2021"
  },
  "language_info": {
   "codemirror_mode": {
    "name": "ipython",
    "version": 3
   },
   "file_extension": ".py",
   "mimetype": "text/x-python",
   "name": "python",
   "nbconvert_exporter": "python",
   "pygments_lexer": "ipython3",
   "version": "3.8.12"
  }
 },
 "nbformat": 4,
 "nbformat_minor": 5
}
