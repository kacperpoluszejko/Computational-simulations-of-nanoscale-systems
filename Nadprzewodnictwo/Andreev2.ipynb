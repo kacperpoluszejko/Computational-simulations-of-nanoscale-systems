{
 "cells": [
  {
   "cell_type": "code",
   "execution_count": 1,
   "id": "infinite-hamilton",
   "metadata": {},
   "outputs": [],
   "source": [
    "import kwant\n",
    "import numpy as np\n",
    "import matplotlib.pyplot as plt\n",
    "import scipy.linalg as la\n",
    "from scipy.constants import physical_constants\n",
    "import tinyarray\n",
    "import warnings\n",
    "warnings.filterwarnings(\"ignore\", category=DeprecationWarning)\n",
    "warnings.filterwarnings(\"ignore\", message=\"Creating an ndarray from ragged\")"
   ]
  },
  {
   "cell_type": "code",
   "execution_count": 2,
   "id": "functioning-dublin",
   "metadata": {},
   "outputs": [],
   "source": [
    "h_bar = physical_constants['Planck constant over 2 pi'][0]   \n",
    "m_el = physical_constants['electron mass'][0]         \n",
    "eV_unit = physical_constants['electron volt'][0]             \n",
    "el_charge = physical_constants['elementary charge'][0]    \n",
    "hh = physical_constants['Planck constant'][0]  \n",
    "mu_B = physical_constants['Bohr magneton'][0]  \n",
    "mu_B = mu_B/eV_unit"
   ]
  },
  {
   "cell_type": "code",
   "execution_count": 7,
   "id": "figured-emission",
   "metadata": {},
   "outputs": [],
   "source": [
    "m_ef = 1* m_el\n",
    "dx = 0.1 * 10**(-9) \n",
    "a = 1\n",
    "mu = 0.01\n",
    "Delta = 0.25*10**(-3)\n",
    "t_unit_J = h_bar**(2)/(2*m_ef*dx**2) \n",
    "t = t_unit_J/eV_unit \n",
    "L_FM = 250\n",
    "L_SC = 10\n",
    "sigma_law = np.matrix([[1, 0], [0, 2]])\n",
    "P_r = 0\n",
    "P_l = 0"
   ]
  },
  {
   "cell_type": "code",
   "execution_count": 8,
   "id": "seasonal-coordination",
   "metadata": {},
   "outputs": [
    {
     "data": {
      "image/png": "[encoded data removed]",
      "text/plain": [
       "<Figure size 432x288 with 1 Axes>"
      ]
     },
     "metadata": {
      "needs_background": "light"
     },
     "output_type": "display_data"
    },
    {
     "data": {
      "image/png": "[encoded data removed]",
      "text/plain": [
       "<Figure size 432x288 with 1 Axes>"
      ]
     },
     "execution_count": 8,
     "metadata": {},
     "output_type": "execute_result"
    }
   ],
   "source": [
    "def make_system(L_SC = 10): \n",
    "    \n",
    "\n",
    "    \n",
    "    def potential(x):\n",
    "        return 0#Z*mu*np.exp(-1*(x-L)**2/(2*a*a))\n",
    "    \n",
    "    def onsite_left(site):\n",
    "        x,= site.pos\n",
    "        return np.array([[2*t - mu + potential(x) - P_l*mu, 0], [0, -1*(2*t - mu + potential(x) + P_l*mu)]])\n",
    "    \n",
    "    def onsite_right(site):\n",
    "        x,= site.pos\n",
    "        return np.array([[2*t - mu + potential(x) - P_r*mu, 0], [0, -1*(2*t - mu + potential(x) + P_r*mu)]])\n",
    "    \n",
    "    def onsite(site):\n",
    "        x,= site.pos\n",
    "        if (x>=L_FM and x<=(L_FM + L_SC)):\n",
    "            return np.array([[2*t - mu + potential(x), Delta], [Delta, -1*(2*t - mu + potential(x))]])\n",
    "        elif (x<L_FM):\n",
    "            return np.array([[2*t - mu + potential(x) - P_l*mu, 0], [0, -1*(2*t - mu + potential(x) + P_l*mu)]])\n",
    "        elif(x>(L_FM + L_SC)):\n",
    "            return np.array([[2*t - mu + potential(x) - P_r*mu, 0], [0, -1*(2*t - mu + potential(x) + P_r*mu)]])\n",
    "            \n",
    "\n",
    "    def shape(pos):\n",
    "        x,= pos\n",
    "        return 0 <= x <= (2*L_FM + L_SC)\n",
    "\n",
    "    def shape_lead(pos):\n",
    "        x,= pos\n",
    "        return True\n",
    "    \n",
    "    def hopping(site1, site2):\n",
    "        return np.array([[-t, 0], [0, t]])\n",
    "\n",
    "\n",
    "    sys = kwant.Builder()  \n",
    "    lat = kwant.lattice.chain(dx*10**9, norbs=2)\n",
    "    sys[lat.shape(shape,(0,))] = onsite\n",
    "    sys[lat.neighbors()] = hopping\n",
    "    \n",
    "\n",
    "    leadl = kwant.Builder(kwant.TranslationalSymmetry((-dx*10**9,)),conservation_law=sigma_law)\n",
    "    leadl[lat.shape(shape_lead, (0,))] = onsite_left\n",
    "    leadl[lat.neighbors()] = hopping\n",
    "\n",
    "    leadr = kwant.Builder(kwant.TranslationalSymmetry((dx*10**9,)),conservation_law=sigma_law)\n",
    "    leadr[lat.shape(shape_lead, (0,))] = onsite_right\n",
    "    leadr[lat.neighbors()] = hopping\n",
    "\n",
    "\n",
    "    sys.attach_lead(leadl)\n",
    "    sys.attach_lead(leadr)\n",
    "\n",
    "    sysf = sys.finalized()\n",
    "\n",
    "    return sysf\n",
    "sysf = make_system()\n",
    "kwant.plot(sysf)"
   ]
  },
  {
   "cell_type": "code",
   "execution_count": 5,
   "id": "spanish-extreme",
   "metadata": {},
   "outputs": [],
   "source": [
    "def andreev_conductance(syst, ene):\n",
    "    smatrix = kwant.smatrix(syst,ene)\n",
    "    R_he = smatrix.transmission((0, 1), (0, 0))\n",
    "    R_ee = smatrix.transmission((0, 0), (0, 0))\n",
    "    T_ee = smatrix.transmission((1, 0), (0, 0))\n",
    "    T_he = smatrix.transmission((1, 1), (0, 0))\n",
    "    return R_he, R_ee, T_ee, T_he \n",
    "\n",
    "def conductance(syst, ene):\n",
    "    smatrix = kwant.smatrix(syst,ene)\n",
    "    R_he = smatrix.transmission((0, 1), (0, 0))\n",
    "    R_ee = smatrix.transmission((0, 0), (0, 0))\n",
    "    return (1-R_ee+R_he)\n"
   ]
  },
  {
   "cell_type": "code",
   "execution_count": 9,
   "id": "everyday-translator",
   "metadata": {},
   "outputs": [
    {
     "data": {
      "image/png": "[encoded data removed]",
      "text/plain": [
       "<Figure size 432x288 with 1 Axes>"
      ]
     },
     "metadata": {
      "needs_background": "light"
     },
     "output_type": "display_data"
    }
   ],
   "source": [
    "Ne = 50\n",
    "Emin = 0\n",
    "Emax = 0.5e-3\n",
    "\n",
    "results= [andreev_conductance(sysf, i) for i in np.linspace(Emin, Emax, Ne)]\n",
    "res1, res2, res3, res4 = zip(*results)  # Rozpakowanie do osobnych list\n",
    "plt.plot(np.linspace(Emin, Emax, Ne), res1, label = \"R_he\")\n",
    "plt.plot(np.linspace(Emin, Emax, Ne), res2, label = \"R_ee\")\n",
    "plt.plot(np.linspace(Emin, Emax, Ne), res3, label = \"T_ee\")\n",
    "plt.plot(np.linspace(Emin, Emax, Ne), res4, label = \"T_he\")\n",
    "plt.xlabel(r\"$E [eV]$\")\n",
    "plt.ylabel(\"T\")\n",
    "plt.legend()\n",
    "plt.savefig(\"Rys5.png\")"
   ]
  },
  {
   "cell_type": "code",
   "execution_count": 6,
   "id": "handed-height",
   "metadata": {},
   "outputs": [
    {
     "data": {
      "image/png": "[encoded data removed]",
      "text/plain": [
       "<Figure size 432x288 with 1 Axes>"
      ]
     },
     "metadata": {
      "needs_background": "light"
     },
     "output_type": "display_data"
    }
   ],
   "source": [
    "Ne = 50\n",
    "Emin = 0\n",
    "Emax = 0.5e-3\n",
    "L_SC = 250\n",
    "\n",
    "results= [andreev_conductance(sysf, i) for i in np.linspace(Emin, Emax, Ne)]\n",
    "res1, res2, res3, res4 = zip(*results)  # Rozpakowanie do osobnych list\n",
    "plt.plot(np.linspace(Emin, Emax, Ne), res1, label = \"R_he\")\n",
    "plt.plot(np.linspace(Emin, Emax, Ne), res2, label = \"R_ee\")\n",
    "plt.plot(np.linspace(Emin, Emax, Ne), res3, label = \"T_ee\")\n",
    "plt.plot(np.linspace(Emin, Emax, Ne), res4, label = \"T_he\")\n",
    "plt.xlabel(r\"$E [eV]$\")\n",
    "plt.ylabel(\"T\")\n",
    "plt.legend()\n",
    "plt.savefig(\"Rys6.png\")"
   ]
  },
  {
   "cell_type": "code",
   "execution_count": 9,
   "id": "imposed-domestic",
   "metadata": {},
   "outputs": [
    {
     "data": {
      "image/png": "[encoded data removed]",
      "text/plain": [
       "<Figure size 432x288 with 1 Axes>"
      ]
     },
     "metadata": {
      "needs_background": "light"
     },
     "output_type": "display_data"
    }
   ],
   "source": [
    "L_sc_min = 0\n",
    "L_sc_max = 500\n",
    "nl = 50\n",
    "E = 0.1*10**(-3)\n",
    "T_ee_table = []\n",
    "T_he_table = []\n",
    "R_he_table = []\n",
    "R_ee_table = []\n",
    "L_table = np.linspace(L_sc_min, L_sc_max, nl)\n",
    "\n",
    "for L_sc in L_table:\n",
    "    system = make_system(L_sc)\n",
    "    res1, res2, res3, res4 = andreev_conductance(system, E)\n",
    "    R_he_table.append(res1)\n",
    "    R_ee_table.append(res2)    \n",
    "    T_ee_table.append(res3)    \n",
    "    T_he_table.append(res4) \n",
    "plt.plot(L_table, R_he_table, label = \"R_he\")\n",
    "plt.plot(L_table, R_ee_table, label = \"R_ee\")\n",
    "plt.plot(L_table, T_ee_table, label = \"T_ee\")\n",
    "plt.plot(L_table, T_he_table, label = \"T_he\")\n",
    "plt.legend()\n",
    "plt.xlabel(r\"$L_{SC}$\")\n",
    "plt.ylabel(\"T\")\n",
    "plt.savefig(\"Rys7.png\")"
   ]
  },
  {
   "cell_type": "code",
   "execution_count": null,
   "id": "informative-karma",
   "metadata": {},
   "outputs": [],
   "source": [
    "L_sc_min = 0\n",
    "L_sc_max = 500\n",
    "nl = 50\n",
    "E = 0.1*10**(-3)\n",
    "P_r = 0\n",
    "P_l = 0.995\n",
    "T_ee_table = []\n",
    "T_he_table = []\n",
    "R_he_table = []\n",
    "R_ee_table = []\n",
    "L_table = np.linspace(L_sc_min, L_sc_max, nl)\n",
    "\n",
    "for L_sc in L_table:\n",
    "    system = make_system(L_sc)\n",
    "    res1, res2, res3, res4 = andreev_conductance(system, E)\n",
    "    R_he_table.append(res1)\n",
    "    R_ee_table.append(res2)    \n",
    "    T_ee_table.append(res3)    \n",
    "    T_he_table.append(res4) \n",
    "plt.plot(L_table, R_he_table, label = \"R_he\")\n",
    "plt.plot(L_table, R_ee_table, label = \"R_ee\")\n",
    "plt.plot(L_table, T_ee_table, label = \"T_ee\")\n",
    "plt.plot(L_table, T_he_table, label = \"T_he\")\n",
    "plt.legend()\n",
    "plt.xlabel(r\"$L_{SC}$\")\n",
    "plt.ylabel(\"T\")\n",
    "plt.savefig(\"Rys8.png\")"
   ]
  },
  {
   "cell_type": "code",
   "execution_count": null,
   "id": "dutch-operator",
   "metadata": {},
   "outputs": [],
   "source": []
  }
 ],
 "metadata": {
  "kernelspec": {
   "display_name": "pykwant2021",
   "language": "python",
   "name": "pykwant2021"
  },
  "language_info": {
   "codemirror_mode": {
    "name": "ipython",
    "version": 3
   },
   "file_extension": ".py",
   "mimetype": "text/x-python",
   "name": "python",
   "nbconvert_exporter": "python",
   "pygments_lexer": "ipython3",
   "version": "3.8.12"
  }
 },
 "nbformat": 4,
 "nbformat_minor": 5
}
